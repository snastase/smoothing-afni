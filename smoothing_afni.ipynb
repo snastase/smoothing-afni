{
 "cells": [
  {
   "cell_type": "code",
   "execution_count": 1,
   "metadata": {},
   "outputs": [],
   "source": [
    "from os.path import exists\n",
    "from subprocess import run, PIPE"
   ]
  },
  {
   "cell_type": "code",
   "execution_count": 2,
   "metadata": {},
   "outputs": [],
   "source": [
    "# Pick a Narratives representative subject for now\n",
    "subject = 'sub-050'\n",
    "task = 'pieman'\n",
    "grid = '3.0mm'\n",
    "\n",
    "# Filenames for the whole-brain MNI mask and resampled version\n",
    "brain_fn = 'space-MNI152NLin2009cAsym_desc-brain_mask.nii.gz'\n",
    "mask_fn = f'space-MNI152NLin2009cAsym_desc-brain{grid}_mask.nii.gz'\n",
    "\n",
    "# Filename for BOLD data\n",
    "bold_fn = f'{subject}_task-{task}_space-MNI152NLin2009cAsym_desc-preproc_bold.nii.gz'"
   ]
  },
  {
   "cell_type": "code",
   "execution_count": 3,
   "metadata": {},
   "outputs": [],
   "source": [
    "# Resample the mask to match BOLD grid\n",
    "if not exists(mask_fn):\n",
    "    print(\"Resample brain mask to BOLD grid\")\n",
    "    run(f\"3dresample -master {bold_fn} -prefix {mask_fn} \"\n",
    "        f\"-input {brain_fn} -rmode NN\", shell=True);"
   ]
  },
  {
   "cell_type": "code",
   "execution_count": 4,
   "metadata": {},
   "outputs": [
    {
     "name": "stdout",
     "output_type": "stream",
     "text": [
      "FWHM (native):  2.9519  3.21721  3.81454     3.30883\n"
     ]
    }
   ],
   "source": [
    "# Estimate FWHM from the original data\n",
    "orig_fwhm = run(f\"3dFWHMx -detrend -mask {mask_fn} \"\n",
    "                f\"-input {bold_fn} -ShowMeClassicFWHM\",\n",
    "                shell=True, stdout=PIPE)\n",
    "print(\"FWHM (native):\", orig_fwhm.stdout.decode('utf-8').partition('\\n')[0])"
   ]
  },
  {
   "cell_type": "code",
   "execution_count": 5,
   "metadata": {},
   "outputs": [],
   "source": [
    "# Try 3dmerge classic smoothing (with no mask)\n",
    "width = 4.0\n",
    "merge_fn = (f'{subject}_task-{task}_space-MNI152NLin2009cAsym'\n",
    "            f'_desc-3dmerge{width}_bold.nii.gz')\n",
    "\n",
    "run(f\"3dmerge -1blur_fwhm {width} -doall \"\n",
    "    f\"-prefix {merge_fn} {bold_fn}\", shell=True);"
   ]
  },
  {
   "cell_type": "code",
   "execution_count": 6,
   "metadata": {},
   "outputs": [
    {
     "name": "stdout",
     "output_type": "stream",
     "text": [
      "FWHM (after 3dmerge with 4.0 mm kernel):\n",
      "  5.81018  5.91799  6.03092     5.91901\n"
     ]
    }
   ],
   "source": [
    "# Check FWHM after 3dmerge with 6 mm kernel\n",
    "merge_fwhm = run(f\"3dFWHMx -detrend -mask {mask_fn} \"\n",
    "                 f\"-input {merge_fn} -ShowMeClassicFWHM\",\n",
    "                 shell=True, stdout=PIPE)\n",
    "print(f\"FWHM (after 3dmerge with {width} mm kernel):\\n\",\n",
    "      merge_fwhm.stdout.decode('utf-8').partition('\\n')[0])"
   ]
  },
  {
   "cell_type": "code",
   "execution_count": 7,
   "metadata": {},
   "outputs": [],
   "source": [
    "# Try 3dBlurInMask smoothing\n",
    "width = 5.0\n",
    "blurinmask_fn = (f'{subject}_task-{task}_space-MNI152NLin2009cAsym'\n",
    "                 f'_desc-3dBlurInMask{width}_bold.nii.gz')\n",
    "\n",
    "run(f\"3dBlurInMask -FWHM {width} -mask {mask_fn} \"\n",
    "    f\"-input {bold_fn} -prefix {blurinmask_fn}\", shell=True);"
   ]
  },
  {
   "cell_type": "code",
   "execution_count": 8,
   "metadata": {},
   "outputs": [
    {
     "name": "stdout",
     "output_type": "stream",
     "text": [
      "FWHM (after 3dBlurInMask with 5.0 mm kernel):\n",
      "  5.86561  6.09081  6.29519     6.08134\n"
     ]
    }
   ],
   "source": [
    "# Check FWHM after 3dBlurInMask\n",
    "blurinmask_fwhm = run(f\"3dFWHMx -detrend -mask {mask_fn} \"\n",
    "                      f\"-input {blurinmask_fn} \"\n",
    "                      \"-ShowMeClassicFWHM\",\n",
    "                      shell=True, stdout=PIPE)\n",
    "print(f\"FWHM (after 3dBlurInMask with {width} mm kernel):\\n\",\n",
    "      blurinmask_fwhm.stdout.decode('utf-8').partition('\\n')[0])"
   ]
  },
  {
   "cell_type": "code",
   "execution_count": 9,
   "metadata": {},
   "outputs": [],
   "source": [
    "# Try 3dBlurToFWHM with 6 mm target smoothness\n",
    "smoothness = 6.0\n",
    "blurtofwhm_fn = (f'{subject}_task-{task}_space-MNI152NLin2009cAsym'\n",
    "                 f'_desc-3dBlurToFWHM{smoothness}_bold.nii.gz')\n",
    "\n",
    "run(f\"3dBlurToFWHM -mask {mask_fn} -FWHM {smoothness} \"\n",
    "    f\"-input {bold_fn} -prefix {blurtofwhm_fn}\", shell=True);"
   ]
  },
  {
   "cell_type": "code",
   "execution_count": 10,
   "metadata": {},
   "outputs": [
    {
     "name": "stdout",
     "output_type": "stream",
     "text": [
      "FWHM (after 3dBlurToFWHM with 6.0 mm target smoothness):\n",
      "  5.7487  5.81199  6.30655     5.95062\n"
     ]
    }
   ],
   "source": [
    "# Check FWHM after 3dBlurToFWHM (should roughly match)\n",
    "blurtofwhm_fwhm = run(f\"3dFWHMx -detrend -mask {mask_fn} \"\n",
    "                      f\"-input {blurtofwhm_fn} -ShowMeClassicFWHM\",\n",
    "                      shell=True, stdout=PIPE)\n",
    "print(f\"FWHM (after 3dBlurToFWHM with {smoothness} mm target smoothness):\\n\",\n",
    "      blurtofwhm_fwhm.stdout.decode('utf-8').partition('\\n')[0])"
   ]
  }
 ],
 "metadata": {
  "kernelspec": {
   "display_name": "Python 3",
   "language": "python",
   "name": "python3"
  },
  "language_info": {
   "codemirror_mode": {
    "name": "ipython",
    "version": 3
   },
   "file_extension": ".py",
   "mimetype": "text/x-python",
   "name": "python",
   "nbconvert_exporter": "python",
   "pygments_lexer": "ipython3",
   "version": "3.8.2"
  }
 },
 "nbformat": 4,
 "nbformat_minor": 4
}
